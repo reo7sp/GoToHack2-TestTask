{
 "cells": [
  {
   "cell_type": "code",
   "execution_count": 1,
   "metadata": {
    "collapsed": true,
    "run_control": {
     "frozen": false,
     "read_only": false
    }
   },
   "outputs": [],
   "source": [
    "import pandas as pd"
   ]
  },
  {
   "cell_type": "code",
   "execution_count": 2,
   "metadata": {
    "collapsed": false,
    "run_control": {
     "frozen": false,
     "read_only": false
    }
   },
   "outputs": [
    {
     "data": {
      "text/html": [
       "<div>\n",
       "<table border=\"1\" class=\"dataframe\">\n",
       "  <thead>\n",
       "    <tr style=\"text-align: right;\">\n",
       "      <th></th>\n",
       "      <th>user_id</th>\n",
       "      <th>action</th>\n",
       "      <th>step_id</th>\n",
       "      <th>time</th>\n",
       "    </tr>\n",
       "  </thead>\n",
       "  <tbody>\n",
       "    <tr>\n",
       "      <th>1431922</th>\n",
       "      <td>1229</td>\n",
       "      <td>viewed</td>\n",
       "      <td>38518</td>\n",
       "      <td>1440065573</td>\n",
       "    </tr>\n",
       "    <tr>\n",
       "      <th>1431921</th>\n",
       "      <td>1229</td>\n",
       "      <td>discovered</td>\n",
       "      <td>38518</td>\n",
       "      <td>1440065573</td>\n",
       "    </tr>\n",
       "    <tr>\n",
       "      <th>1431920</th>\n",
       "      <td>1229</td>\n",
       "      <td>passed</td>\n",
       "      <td>38518</td>\n",
       "      <td>1440065573</td>\n",
       "    </tr>\n",
       "    <tr>\n",
       "      <th>1431917</th>\n",
       "      <td>1229</td>\n",
       "      <td>passed</td>\n",
       "      <td>38521</td>\n",
       "      <td>1440065578</td>\n",
       "    </tr>\n",
       "    <tr>\n",
       "      <th>1431919</th>\n",
       "      <td>1229</td>\n",
       "      <td>viewed</td>\n",
       "      <td>38521</td>\n",
       "      <td>1440065578</td>\n",
       "    </tr>\n",
       "  </tbody>\n",
       "</table>\n",
       "</div>"
      ],
      "text/plain": [
       "         user_id      action  step_id        time\n",
       "1431922     1229      viewed    38518  1440065573\n",
       "1431921     1229  discovered    38518  1440065573\n",
       "1431920     1229      passed    38518  1440065573\n",
       "1431917     1229      passed    38521  1440065578\n",
       "1431919     1229      viewed    38521  1440065578"
      ]
     },
     "execution_count": 2,
     "metadata": {},
     "output_type": "execute_result"
    }
   ],
   "source": [
    "events = pd.DataFrame.from_csv('course-217-events.csv', index_col=None)\n",
    "events.sort_values('time', inplace=True)\n",
    "events.head()"
   ]
  },
  {
   "cell_type": "code",
   "execution_count": 3,
   "metadata": {
    "collapsed": false,
    "run_control": {
     "frozen": false,
     "read_only": false
    }
   },
   "outputs": [
    {
     "data": {
      "text/html": [
       "<div>\n",
       "<table border=\"1\" class=\"dataframe\">\n",
       "  <thead>\n",
       "    <tr style=\"text-align: right;\">\n",
       "      <th></th>\n",
       "      <th>course_id</th>\n",
       "      <th>module_id</th>\n",
       "      <th>module_position</th>\n",
       "      <th>lesson_id</th>\n",
       "      <th>lesson_position</th>\n",
       "      <th>step_position</th>\n",
       "      <th>step_type</th>\n",
       "      <th>step_cost</th>\n",
       "    </tr>\n",
       "    <tr>\n",
       "      <th>step_id</th>\n",
       "      <th></th>\n",
       "      <th></th>\n",
       "      <th></th>\n",
       "      <th></th>\n",
       "      <th></th>\n",
       "      <th></th>\n",
       "      <th></th>\n",
       "      <th></th>\n",
       "    </tr>\n",
       "  </thead>\n",
       "  <tbody>\n",
       "    <tr>\n",
       "      <th>38842</th>\n",
       "      <td>217</td>\n",
       "      <td>614</td>\n",
       "      <td>2</td>\n",
       "      <td>13228</td>\n",
       "      <td>2</td>\n",
       "      <td>1</td>\n",
       "      <td>text</td>\n",
       "      <td>0</td>\n",
       "    </tr>\n",
       "    <tr>\n",
       "      <th>39715</th>\n",
       "      <td>217</td>\n",
       "      <td>614</td>\n",
       "      <td>2</td>\n",
       "      <td>13228</td>\n",
       "      <td>2</td>\n",
       "      <td>6</td>\n",
       "      <td>code</td>\n",
       "      <td>1</td>\n",
       "    </tr>\n",
       "    <tr>\n",
       "      <th>39716</th>\n",
       "      <td>217</td>\n",
       "      <td>614</td>\n",
       "      <td>2</td>\n",
       "      <td>13228</td>\n",
       "      <td>2</td>\n",
       "      <td>7</td>\n",
       "      <td>code</td>\n",
       "      <td>1</td>\n",
       "    </tr>\n",
       "    <tr>\n",
       "      <th>39717</th>\n",
       "      <td>217</td>\n",
       "      <td>614</td>\n",
       "      <td>2</td>\n",
       "      <td>13228</td>\n",
       "      <td>2</td>\n",
       "      <td>8</td>\n",
       "      <td>code</td>\n",
       "      <td>1</td>\n",
       "    </tr>\n",
       "    <tr>\n",
       "      <th>39721</th>\n",
       "      <td>217</td>\n",
       "      <td>614</td>\n",
       "      <td>2</td>\n",
       "      <td>13228</td>\n",
       "      <td>2</td>\n",
       "      <td>9</td>\n",
       "      <td>free-answer</td>\n",
       "      <td>0</td>\n",
       "    </tr>\n",
       "  </tbody>\n",
       "</table>\n",
       "</div>"
      ],
      "text/plain": [
       "         course_id  module_id  module_position  lesson_id  lesson_position  \\\n",
       "step_id                                                                      \n",
       "38842          217        614                2      13228                2   \n",
       "39715          217        614                2      13228                2   \n",
       "39716          217        614                2      13228                2   \n",
       "39717          217        614                2      13228                2   \n",
       "39721          217        614                2      13228                2   \n",
       "\n",
       "         step_position    step_type  step_cost  \n",
       "step_id                                         \n",
       "38842                1         text          0  \n",
       "39715                6         code          1  \n",
       "39716                7         code          1  \n",
       "39717                8         code          1  \n",
       "39721                9  free-answer          0  "
      ]
     },
     "execution_count": 3,
     "metadata": {},
     "output_type": "execute_result"
    }
   ],
   "source": [
    "structure = pd.read_csv('course-217-structure.csv', index_col='step_id')\n",
    "structure.head()"
   ]
  },
  {
   "cell_type": "code",
   "execution_count": 4,
   "metadata": {
    "collapsed": true,
    "run_control": {
     "frozen": false,
     "read_only": false
    }
   },
   "outputs": [],
   "source": [
    "from collections import defaultdict"
   ]
  },
  {
   "cell_type": "code",
   "execution_count": 5,
   "metadata": {
    "collapsed": true,
    "run_control": {
     "frozen": false,
     "read_only": false
    }
   },
   "outputs": [],
   "source": [
    "step_positions = dict()\n",
    "for i, row in structure.iterrows():\n",
    "    step_positions[i] = (row.module_position, row.lesson_position, row.step_position)"
   ]
  },
  {
   "cell_type": "code",
   "execution_count": 6,
   "metadata": {
    "collapsed": true
   },
   "outputs": [],
   "source": [
    "step_positions_T = {v: k for k, v in step_positions.items()}"
   ]
  },
  {
   "cell_type": "code",
   "execution_count": 7,
   "metadata": {
    "collapsed": true,
    "run_control": {
     "frozen": false,
     "read_only": false
    }
   },
   "outputs": [],
   "source": [
    "from progressbar import ProgressBar"
   ]
  },
  {
   "cell_type": "code",
   "execution_count": 21,
   "metadata": {
    "collapsed": false,
    "run_control": {
     "frozen": false,
     "read_only": false
    }
   },
   "outputs": [
    {
     "name": "stderr",
     "output_type": "stream",
     "text": [
      "100% (7662 of 7662) |#####################| Elapsed Time: 0:28:00 Time: 0:28:00\n"
     ]
    }
   ],
   "source": [
    "who_watched = defaultdict(set)\n",
    "who_rewatched = defaultdict(set)\n",
    "\n",
    "def get_next_step(x, y, z):\n",
    "    if (x, y, z + 1) in step_positions_T:\n",
    "        return step_positions_T[(x, y, z + 1)]\n",
    "    elif (x, y + 1, 1) in step_positions_T:\n",
    "        return step_positions_T[(x, y + 1, 1)]\n",
    "    elif (x + 1, 1, 1) in step_positions_T:\n",
    "        return step_positions_T[(x + 1, 1, 1)]\n",
    "    else:\n",
    "        return None\n",
    "    \n",
    "bar = ProgressBar(max_value=len(events.user_id.unique()))\n",
    "\n",
    "for user_id, user_events in bar(events.groupby('user_id')):\n",
    "    for i, row in user_events.iterrows():\n",
    "        if user_id in who_watched[row.step_id]:\n",
    "            x, y, z = step_positions[row.step_id]\n",
    "            next_step_id = get_next_step(x, y, z)\n",
    "            if user_id in who_watched[next_step_id]:\n",
    "                _t = (user_events.time < row.time)\n",
    "                cur = user_events[_t & (user_events.step_id == row.step_id)]\n",
    "                nex = user_events[_t & (user_events.step_id == next_step_id)]\n",
    "                if len(cur) != 0 and (len(nex) == 0 or cur.iloc[0].time < nex.iloc[-1].time):\n",
    "                    who_rewatched[row.step_id].add(user_id)\n",
    "        else:\n",
    "            who_watched[row.step_id].add(user_id)"
   ]
  },
  {
   "cell_type": "code",
   "execution_count": 22,
   "metadata": {
    "collapsed": false,
    "run_control": {
     "frozen": false,
     "read_only": false
    }
   },
   "outputs": [],
   "source": [
    "for k, v in list(who_watched.items()):\n",
    "    if len(v) == 0:\n",
    "        del who_watched[k]"
   ]
  },
  {
   "cell_type": "code",
   "execution_count": 23,
   "metadata": {
    "collapsed": false,
    "run_control": {
     "frozen": false,
     "read_only": false
    }
   },
   "outputs": [],
   "source": [
    "for k, v in list(who_rewatched.items()):\n",
    "    if len(v) == 0:\n",
    "        del who_rewatched[k]"
   ]
  },
  {
   "cell_type": "code",
   "execution_count": 24,
   "metadata": {
    "collapsed": false,
    "run_control": {
     "frozen": false,
     "read_only": false
    }
   },
   "outputs": [
    {
     "data": {
      "text/plain": [
       "True"
      ]
     },
     "execution_count": 24,
     "metadata": {},
     "output_type": "execute_result"
    }
   ],
   "source": [
    "all(len(v) > 0 for k, v in who_rewatched.items())"
   ]
  },
  {
   "cell_type": "code",
   "execution_count": 25,
   "metadata": {
    "collapsed": true,
    "run_control": {
     "frozen": false,
     "read_only": false
    }
   },
   "outputs": [],
   "source": [
    "step_rewatch_rates = dict()\n",
    "for step_id in who_watched:\n",
    "    step_rewatch_rates[step_id] = len(who_rewatched[step_id]) / len(who_watched[step_id])"
   ]
  },
  {
   "cell_type": "code",
   "execution_count": 26,
   "metadata": {
    "collapsed": false,
    "run_control": {
     "frozen": false,
     "read_only": false
    }
   },
   "outputs": [
    {
     "data": {
      "text/plain": [
       "[(41684, 0.7460106382978723),\n",
       " (41604, 0.7297605473204105),\n",
       " (41097, 0.6809314033983638),\n",
       " (41481, 0.6748329621380846),\n",
       " (42593, 0.6662468513853904),\n",
       " (38872, 0.6600851722802943),\n",
       " (41686, 0.6571815718157181),\n",
       " (39735, 0.6543824701195219),\n",
       " (39740, 0.6538882803943045),\n",
       " (39717, 0.6459863945578231)]"
      ]
     },
     "execution_count": 26,
     "metadata": {},
     "output_type": "execute_result"
    }
   ],
   "source": [
    "best_steps = sorted(step_rewatch_rates.items(), key=lambda it: it[1], reverse=True)[:10]\n",
    "best_steps"
   ]
  },
  {
   "cell_type": "code",
   "execution_count": 27,
   "metadata": {
    "collapsed": false,
    "run_control": {
     "frozen": false,
     "read_only": false
    }
   },
   "outputs": [
    {
     "name": "stdout",
     "output_type": "stream",
     "text": [
      "41684,41604,41097,41481,42593,38872,41686,39735,39740,39717,"
     ]
    }
   ],
   "source": [
    "for k, v in best_steps:\n",
    "    print(k, end=',')"
   ]
  },
  {
   "cell_type": "code",
   "execution_count": null,
   "metadata": {
    "collapsed": true,
    "run_control": {
     "frozen": false,
     "read_only": false
    }
   },
   "outputs": [],
   "source": []
  }
 ],
 "metadata": {
  "kernelspec": {
   "display_name": "Python 3",
   "language": "python",
   "name": "python3"
  },
  "language_info": {
   "codemirror_mode": {
    "name": "ipython",
    "version": 3
   },
   "file_extension": ".py",
   "mimetype": "text/x-python",
   "name": "python",
   "nbconvert_exporter": "python",
   "pygments_lexer": "ipython3",
   "version": "3.5.2"
  }
 },
 "nbformat": 4,
 "nbformat_minor": 1
}
